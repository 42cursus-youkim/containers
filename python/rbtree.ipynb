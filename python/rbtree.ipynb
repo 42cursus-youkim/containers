{
 "cells": [
  {
   "cell_type": "code",
   "execution_count": 110,
   "metadata": {},
   "outputs": [],
   "source": [
    "from __future__ import annotations\n",
    "from typing import TypeVar, Generic, Any, Iterator\n",
    "from dataclasses import dataclass, field\n",
    "from enum import IntEnum, auto\n",
    "from termcolor import colored\n",
    "from graphviz import Digraph, nohtml\n",
    "\n",
    "T = TypeVar('T')"
   ]
  },
  {
   "cell_type": "code",
   "execution_count": 111,
   "metadata": {},
   "outputs": [],
   "source": [
    "class NodeColor(IntEnum):\n",
    "    RED = auto()\n",
    "    BLACK = auto()\n",
    "    NIL = auto()\n",
    "\n",
    "\n",
    "@dataclass\n",
    "class Node(Generic[T]):\n",
    "    value: T\n",
    "    color: NodeColor = NodeColor.RED\n",
    "    parent_: Node | None = field(default=None)\n",
    "\n",
    "    def __post_init__(self):\n",
    "        self.left: Node \n",
    "        self.right: Node \n",
    "\n",
    "        if self.color != NodeColor.NIL:\n",
    "            self.left = Node(value=None, color=NodeColor.NIL, parent_=self)\n",
    "            self.right = Node(value=None, color=NodeColor.NIL, parent_=self)\n",
    "    \n",
    "    @property\n",
    "    def is_nil(self) -> bool:\n",
    "        return self.color == NodeColor.NIL\n",
    "\n",
    "    @property\n",
    "    def is_black(self) -> bool:\n",
    "        return self.color in [NodeColor.BLACK, NodeColor.NIL]\n",
    "\n",
    "    def __repr__(self) -> str:\n",
    "        hl = 'on_magenta' if self.is_black else 'on_red'\n",
    "        return colored(repr(self.value), on_color=hl, attrs=['dark'])\n",
    "\n",
    "    def in_order(self) -> Iterator[Node[T]]:\n",
    "        print(f'{self.is_nil = } {self.color = }')\n",
    "        if not self.left.is_nil:\n",
    "            yield from self.left.in_order()\n",
    "        yield self\n",
    "        if not self.right.is_nil:\n",
    "            yield from self.right.in_order()\n",
    "\n",
    "class RBTree(Generic[T]):\n",
    "    \"\"\"\n",
    "    1. Each node is either red or black.\n",
    "    2. Root node must be black.\n",
    "    3. All leaves must be black.\n",
    "    4. Red nodes must have black children.\n",
    "    5. Every path from a node to a descendant leaf contains the same number of black nodes.\n",
    "    \"\"\"\n",
    "    def __init__(self, value: T) -> None:\n",
    "        self.root = Node(value, NodeColor.BLACK)\n",
    "    \n",
    "    def __iter__(self) -> Iterator[Node]:\n",
    "        yield from self.root.in_order()\n",
    "\n",
    "    def __len__(self) -> int:\n",
    "        return sum(1 for _ in self)\n",
    "\n",
    "    def insert(self, value: T) -> None:\n",
    "        raise NotImplementedError\n",
    "        node = Node(value)\n",
    "    \n",
    "    def _repr_svg_(self) -> str:\n",
    "        \"Jupyter Notebook\"\n",
    "        return self.graphviz()._repr_image_svg_xml()\n",
    "\n",
    "    def graphviz(self, *args: Any, **kwargs: Any) -> Digraph:\n",
    "        if \"node_attr\" not in kwargs:\n",
    "            kwargs[\"node_attr\"] = {\n",
    "                \"shape\": \"record\",\n",
    "                \"style\": \"filled\",\n",
    "                \"color\": \"lightgray\",\n",
    "                \"fillcolor\": \"lightgray\",\n",
    "                \"fontcolor\": \"black\",\n",
    "            }\n",
    "\n",
    "        # styles = {\n",
    "        #     NodeColor.RED: {'color': 'red', 'fillcolor': 'red', 'fontcolor': 'white'},\n",
    "        #     NodeColor.BLACK: {'color': 'black', 'fillcolor': 'black', 'fontcolor': 'white'},\n",
    "        #     NodeColor.NIL: {'color': 'lightgray', 'fillcolor': 'black', 'fontcolor': 'white'},\n",
    "        # }    \n",
    "\n",
    "        digraph = Digraph(*args, **kwargs)\n",
    "\n",
    "        for node in self:\n",
    "            node_id = str(id(node))\n",
    "\n",
    "            digraph.node(node_id, nohtml(f\"<l>|<v> {node.value}|<r>\"))\n",
    "\n",
    "            if not node.is_nil:\n",
    "                digraph.edge(f\"{node_id}:l\", f\"{id(node.left)}:v\")\n",
    "\n",
    "            if not node.is_nil:\n",
    "                digraph.edge(f\"{node_id}:r\", f\"{id(node.right)}:v\")\n",
    "\n",
    "        return digraph\n",
    "\n",
    "\n"
   ]
  },
  {
   "cell_type": "code",
   "execution_count": 112,
   "metadata": {},
   "outputs": [
    {
     "name": "stderr",
     "output_type": "stream",
     "text": [
      "Warning: node 140643182184048, port v unrecognized\n",
      "Warning: node 140643182184672, port v unrecognized\n",
      "Warning: node 140643182185248, port v unrecognized\n"
     ]
    },
    {
     "name": "stdout",
     "output_type": "stream",
     "text": [
      "self.is_nil = False self.color = <NodeColor.BLACK: 2>\n",
      "self.is_nil = False self.color = <NodeColor.BLACK: 2>\n",
      "2\n",
      "self.is_nil = False self.color = <NodeColor.BLACK: 2>\n",
      "self.is_nil = False self.color = <NodeColor.BLACK: 2>\n"
     ]
    },
    {
     "data": {
      "image/svg+xml": "<?xml version=\"1.0\" encoding=\"UTF-8\" standalone=\"no\"?>\n<!DOCTYPE svg PUBLIC \"-//W3C//DTD SVG 1.1//EN\"\n \"http://www.w3.org/Graphics/SVG/1.1/DTD/svg11.dtd\">\n<!-- Generated by graphviz version 2.43.0 (0)\n -->\n<!-- Title: %3 Pages: 1 -->\n<svg width=\"373pt\" height=\"191pt\"\n viewBox=\"0.00 0.00 373.00 191.00\" xmlns=\"http://www.w3.org/2000/svg\" xmlns:xlink=\"http://www.w3.org/1999/xlink\">\n<g id=\"graph0\" class=\"graph\" transform=\"scale(1 1) rotate(0) translate(4 187)\">\n<title>%3</title>\n<polygon fill=\"white\" stroke=\"transparent\" points=\"-4,4 -4,-187 369,-187 369,4 -4,4\"/>\n<!-- 140643182182800 -->\n<g id=\"node1\" class=\"node\">\n<title>140643182182800</title>\n<polygon fill=\"lightgray\" stroke=\"lightgray\" points=\"127,-73.5 127,-109.5 195,-109.5 195,-73.5 127,-73.5\"/>\n<text text-anchor=\"middle\" x=\"137.5\" y=\"-87.8\" font-family=\"Times,serif\" font-size=\"14.00\"> </text>\n<polyline fill=\"none\" stroke=\"lightgray\" points=\"148,-73.5 148,-109.5 \"/>\n<text text-anchor=\"middle\" x=\"161\" y=\"-87.8\" font-family=\"Times,serif\" font-size=\"14.00\">2</text>\n<polyline fill=\"none\" stroke=\"lightgray\" points=\"174,-73.5 174,-109.5 \"/>\n<text text-anchor=\"middle\" x=\"184.5\" y=\"-87.8\" font-family=\"Times,serif\" font-size=\"14.00\"> </text>\n</g>\n<!-- 140643182184048 -->\n<g id=\"node2\" class=\"node\">\n<title>140643182184048</title>\n<polygon fill=\"lightgray\" stroke=\"lightgray\" points=\"0,-0.5 0,-36.5 152,-36.5 152,-0.5 0,-0.5\"/>\n<text text-anchor=\"middle\" x=\"76\" y=\"-14.8\" font-family=\"Times,serif\" font-size=\"14.00\">140643182184048</text>\n</g>\n<!-- 140643182182800&#45;&gt;140643182184048 -->\n<g id=\"edge1\" class=\"edge\">\n<title>140643182182800:l&#45;&gt;140643182184048:v</title>\n<path fill=\"none\" stroke=\"black\" d=\"M137,-73C137,-61.02 130.37,-51.01 121.49,-42.99\"/>\n<polygon fill=\"black\" stroke=\"black\" points=\"123.6,-40.19 113.59,-36.71 119.24,-45.67 123.6,-40.19\"/>\n</g>\n<!-- 140643182184672 -->\n<g id=\"node3\" class=\"node\">\n<title>140643182184672</title>\n<polygon fill=\"lightgray\" stroke=\"lightgray\" points=\"170,-0.5 170,-36.5 322,-36.5 322,-0.5 170,-0.5\"/>\n<text text-anchor=\"middle\" x=\"246\" y=\"-14.8\" font-family=\"Times,serif\" font-size=\"14.00\">140643182184672</text>\n</g>\n<!-- 140643182182800&#45;&gt;140643182184672 -->\n<g id=\"edge2\" class=\"edge\">\n<title>140643182182800:r&#45;&gt;140643182184672:v</title>\n<path fill=\"none\" stroke=\"black\" d=\"M185,-73C185,-61.02 191.63,-51.01 200.51,-42.99\"/>\n<polygon fill=\"black\" stroke=\"black\" points=\"202.76,-45.67 208.41,-36.71 198.4,-40.19 202.76,-45.67\"/>\n</g>\n<!-- 140643182184192 -->\n<g id=\"node4\" class=\"node\">\n<title>140643182184192</title>\n<polygon fill=\"lightgray\" stroke=\"lightgray\" points=\"191,-146.5 191,-182.5 259,-182.5 259,-146.5 191,-146.5\"/>\n<text text-anchor=\"middle\" x=\"201.5\" y=\"-160.8\" font-family=\"Times,serif\" font-size=\"14.00\"> </text>\n<polyline fill=\"none\" stroke=\"lightgray\" points=\"212,-146.5 212,-182.5 \"/>\n<text text-anchor=\"middle\" x=\"225\" y=\"-160.8\" font-family=\"Times,serif\" font-size=\"14.00\">1</text>\n<polyline fill=\"none\" stroke=\"lightgray\" points=\"238,-146.5 238,-182.5 \"/>\n<text text-anchor=\"middle\" x=\"248.5\" y=\"-160.8\" font-family=\"Times,serif\" font-size=\"14.00\"> </text>\n</g>\n<!-- 140643182184192&#45;&gt;140643182182800 -->\n<g id=\"edge3\" class=\"edge\">\n<title>140643182184192:l&#45;&gt;140643182182800:v</title>\n<path fill=\"none\" stroke=\"black\" d=\"M201,-146C201,-126.19 173.57,-130.91 164.14,-119.53\"/>\n<polygon fill=\"black\" stroke=\"black\" points=\"167.45,-118.4 161,-110 160.8,-120.59 167.45,-118.4\"/>\n</g>\n<!-- 140643182185248 -->\n<g id=\"node5\" class=\"node\">\n<title>140643182185248</title>\n<polygon fill=\"lightgray\" stroke=\"lightgray\" points=\"213,-73.5 213,-109.5 365,-109.5 365,-73.5 213,-73.5\"/>\n<text text-anchor=\"middle\" x=\"289\" y=\"-87.8\" font-family=\"Times,serif\" font-size=\"14.00\">140643182185248</text>\n</g>\n<!-- 140643182184192&#45;&gt;140643182185248 -->\n<g id=\"edge4\" class=\"edge\">\n<title>140643182184192:r&#45;&gt;140643182185248:v</title>\n<path fill=\"none\" stroke=\"black\" d=\"M249,-146C249,-135.61 253.78,-125.89 260.04,-117.62\"/>\n<polygon fill=\"black\" stroke=\"black\" points=\"262.83,-119.74 266.66,-109.86 257.51,-115.2 262.83,-119.74\"/>\n</g>\n</g>\n</svg>\n",
      "text/plain": [
       "<__main__.RBTree at 0x7fea0aea0220>"
      ]
     },
     "execution_count": 112,
     "metadata": {},
     "output_type": "execute_result"
    }
   ],
   "source": [
    "t = RBTree(1)\n",
    "t.root.left = Node(2, NodeColor.BLACK)\n",
    "print(len(t))\n",
    "t"
   ]
  }
 ],
 "metadata": {
  "interpreter": {
   "hash": "68931e2e76b6a7310d5f88e37c383783858d6f1262221c06e839ac3b7dd02389"
  },
  "kernelspec": {
   "display_name": "Python 3.10.1 64-bit",
   "language": "python",
   "name": "python3"
  },
  "language_info": {
   "codemirror_mode": {
    "name": "ipython",
    "version": 3
   },
   "file_extension": ".py",
   "mimetype": "text/x-python",
   "name": "python",
   "nbconvert_exporter": "python",
   "pygments_lexer": "ipython3",
   "version": "3.10.1"
  },
  "orig_nbformat": 4
 },
 "nbformat": 4,
 "nbformat_minor": 2
}
