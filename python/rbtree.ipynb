{
 "cells": [
  {
   "cell_type": "code",
   "execution_count": 184,
   "metadata": {},
   "outputs": [],
   "source": [
    "from __future__ import annotations\n",
    "from typing import TypeVar, Generic, Any, Iterator\n",
    "from dataclasses import dataclass, field\n",
    "from enum import IntEnum, auto\n",
    "from termcolor import colored\n",
    "from graphviz import Digraph, nohtml\n",
    "from abc import ABCMeta, abstractmethod\n",
    "from functools import total_ordering\n",
    "\n",
    "Cmp = TypeVar('Cmp', bound='Comparable')\n",
    "@total_ordering\n",
    "class Comparable(Generic[Cmp]):\n",
    "    @abstractmethod\n",
    "    def __lt__(self: Cmp, other: Any) -> bool: ...\n",
    "\n",
    "    @abstractmethod\n",
    "    def __gt__(self: Cmp, other: Cmp) -> bool: ...\n",
    "\n",
    "T = TypeVar('T', int, Comparable)"
   ]
  },
  {
   "cell_type": "code",
   "execution_count": 185,
   "metadata": {},
   "outputs": [],
   "source": [
    "class NodeColor(IntEnum):\n",
    "    RED = auto()\n",
    "    BLACK = auto()\n",
    "    NIL = auto()\n",
    "\n",
    "\n",
    "@dataclass\n",
    "class Node(Generic[T]):\n",
    "    value: T\n",
    "    color: NodeColor = NodeColor.RED\n",
    "    parent_: Node | None = field(default=None)\n",
    "\n",
    "    def __post_init__(self):\n",
    "        self.left: Node \n",
    "        self.right: Node \n",
    "\n",
    "        if self.color != NodeColor.NIL:\n",
    "            # Nil nodes have dummy value None\n",
    "            self.left = Node(value=None, color=NodeColor.NIL, parent_=self) # type: ignore\n",
    "            self.right = Node(value=None, color=NodeColor.NIL, parent_=self) # type: ignore\n",
    "    \n",
    "    @property\n",
    "    def is_nil(self) -> bool:\n",
    "        return self.color == NodeColor.NIL\n",
    "\n",
    "    @property\n",
    "    def is_black(self) -> bool:\n",
    "        return self.color in [NodeColor.BLACK, NodeColor.NIL]\n",
    "\n",
    "    def is_full(self) -> bool:\n",
    "        return not any([self.is_nil, self.left.is_nil, self.right.is_nil])\n",
    "\n",
    "    def __str__(self) -> str:\n",
    "        hl = 'on_magenta' if self.is_black else 'on_red'\n",
    "        return colored(str(self.value), on_color=hl, attrs=['dark'])\n",
    "\n",
    "    def in_order(self) -> Iterator[Node[T]]:\n",
    "        if not self.is_nil:\n",
    "            yield from self.left.in_order()\n",
    "        yield self\n",
    "        if not self.is_nil:\n",
    "            yield from self.right.in_order()\n",
    "    \n",
    "    def insert(self, node: Node[T]) -> None:\n",
    "        if self.is_nil:\n",
    "            raise ValueError('Cannot insert into nil node')\n",
    "        if node.value <= self.value:\n",
    "            if self.left.is_nil:\n",
    "                self.left = node\n",
    "            else:\n",
    "                self.left.insert(node)\n",
    "        else:\n",
    "            if self.right.is_nil:\n",
    "                self.right = node\n",
    "            else:\n",
    "                self.right.insert(node)\n"
   ]
  },
  {
   "cell_type": "code",
   "execution_count": 186,
   "metadata": {},
   "outputs": [],
   "source": [
    "class RBTree(Generic[T]):\n",
    "    \"\"\"\n",
    "    1. Each node is either red or black.\n",
    "    2. Root node must be black.\n",
    "    3. All leaves must be black.\n",
    "    4. Red nodes must have black children.\n",
    "    5. Every path from a node to a descendant leaf contains the same number of black nodes.\n",
    "    \"\"\"\n",
    "    def __init__(self, value: T) -> None:\n",
    "        self.root = Node(value, NodeColor.BLACK)\n",
    "    \n",
    "    def __iter__(self) -> Iterator[Node]:\n",
    "        yield from self.root.in_order()\n",
    "\n",
    "    def __len__(self) -> int:\n",
    "        return sum(1 for node in self if not node.is_nil)\n",
    "\n",
    "    def insert(self, value: T) -> None:\n",
    "        node = Node(value, color=NodeColor.RED)\n",
    "        self.root.insert(node)\n",
    "    \n",
    "    def _repr_svg_(self) -> str:\n",
    "        \"repr to Jupyter Notebook\"\n",
    "        return self.graphviz()._repr_image_svg_xml()\n",
    "\n",
    "    def graphviz(self, *args: Any, **kwargs: Any) -> Digraph:\n",
    "        def style(color: str):\n",
    "            return {'color': color, 'fillcolor': color}\n",
    "\n",
    "        if \"node_attr\" not in kwargs:\n",
    "            kwargs[\"node_attr\"] = {\n",
    "                \"shape\": \"record\",\n",
    "                \"style\": \"filled, rounded\",\n",
    "                \"fontname\": \"Hack\",\n",
    "                \"fontpath\": \"./asset/\",\n",
    "                \"fontcolor\": \"white\",\n",
    "            }\n",
    "\n",
    "        styles = { \n",
    "            NodeColor.RED: style('coral2'),\n",
    "            NodeColor.BLACK: style('black'),\n",
    "            NodeColor.NIL: style('gray16') | {'fixedsize':'true', 'width': '0.5', 'height': '0.3', 'magin': '0,0', 'fontsize': '8'} \n",
    "        }\n",
    "\n",
    "        digraph = Digraph(*args, **kwargs)\n",
    "\n",
    "        for node in self:\n",
    "            node_id = str(id(node))\n",
    "            digraph.node(node_id, nohtml(f\"<l>|<v> {node.value}|<r>\"), **styles[node.color])\n",
    "\n",
    "            if not node.is_nil:\n",
    "                digraph.edge(f\"{node_id}:l\", f\"{id(node.left)}:v\")\n",
    "                digraph.edge(f\"{node_id}:r\", f\"{id(node.right)}:v\")\n",
    "\n",
    "        return digraph"
   ]
  },
  {
   "cell_type": "code",
   "execution_count": 187,
   "metadata": {},
   "outputs": [
    {
     "name": "stdout",
     "output_type": "stream",
     "text": [
      "9\n"
     ]
    },
    {
     "data": {
      "image/svg+xml": "<?xml version=\"1.0\" encoding=\"UTF-8\" standalone=\"no\"?>\n<!DOCTYPE svg PUBLIC \"-//W3C//DTD SVG 1.1//EN\"\n \"http://www.w3.org/Graphics/SVG/1.1/DTD/svg11.dtd\">\n<!-- Generated by graphviz version 2.43.0 (0)\n -->\n<!-- Title: %3 Pages: 1 -->\n<svg width=\"419pt\" height=\"396pt\"\n viewBox=\"0.00 0.00 419.00 396.00\" xmlns=\"http://www.w3.org/2000/svg\" xmlns:xlink=\"http://www.w3.org/1999/xlink\">\n<g id=\"graph0\" class=\"graph\" transform=\"scale(1 1) rotate(0) translate(4 392)\">\n<title>%3</title>\n<polygon fill=\"white\" stroke=\"transparent\" points=\"-4,4 -4,-392 415,-392 415,4 -4,4\"/>\n<!-- 140575085736096 -->\n<g id=\"node1\" class=\"node\">\n<title>140575085736096</title>\n<path fill=\"#292929\" stroke=\"#292929\" d=\"M7.33,-66.5C7.33,-66.5 28.67,-66.5 28.67,-66.5 32.33,-66.5 36,-70.17 36,-73.83 36,-73.83 36,-81.17 36,-81.17 36,-84.83 32.33,-88.5 28.67,-88.5 28.67,-88.5 7.33,-88.5 7.33,-88.5 3.67,-88.5 0,-84.83 0,-81.17 0,-81.17 0,-73.83 0,-73.83 0,-70.17 3.67,-66.5 7.33,-66.5\"/>\n<text text-anchor=\"middle\" x=\"4\" y=\"-75.6\" font-family=\"Hack\" font-size=\"8.00\" fill=\"white\"> </text>\n<polyline fill=\"none\" stroke=\"#292929\" points=\"8,-66.5 8,-88.5 \"/>\n<text text-anchor=\"middle\" x=\"18.5\" y=\"-75.6\" font-family=\"Hack\" font-size=\"8.00\" fill=\"white\">None</text>\n<polyline fill=\"none\" stroke=\"#292929\" points=\"29,-66.5 29,-88.5 \"/>\n<text text-anchor=\"middle\" x=\"32.5\" y=\"-75.6\" font-family=\"Hack\" font-size=\"8.00\" fill=\"white\"> </text>\n</g>\n<!-- 140575085732880 -->\n<g id=\"node2\" class=\"node\">\n<title>140575085732880</title>\n<path fill=\"#ee6a50\" stroke=\"#ee6a50\" d=\"M20.5,-132.5C20.5,-132.5 71.5,-132.5 71.5,-132.5 77.5,-132.5 83.5,-138.5 83.5,-144.5 83.5,-144.5 83.5,-156.5 83.5,-156.5 83.5,-162.5 77.5,-168.5 71.5,-168.5 71.5,-168.5 20.5,-168.5 20.5,-168.5 14.5,-168.5 8.5,-162.5 8.5,-156.5 8.5,-156.5 8.5,-144.5 8.5,-144.5 8.5,-138.5 14.5,-132.5 20.5,-132.5\"/>\n<text text-anchor=\"middle\" x=\"21\" y=\"-146.8\" font-family=\"Hack\" font-size=\"14.00\" fill=\"white\"> </text>\n<polyline fill=\"none\" stroke=\"#ee6a50\" points=\"33.5,-132.5 33.5,-168.5 \"/>\n<text text-anchor=\"middle\" x=\"46\" y=\"-146.8\" font-family=\"Hack\" font-size=\"14.00\" fill=\"white\">2</text>\n<polyline fill=\"none\" stroke=\"#ee6a50\" points=\"58.5,-132.5 58.5,-168.5 \"/>\n<text text-anchor=\"middle\" x=\"71\" y=\"-146.8\" font-family=\"Hack\" font-size=\"14.00\" fill=\"white\"> </text>\n</g>\n<!-- 140575085732880&#45;&gt;140575085736096 -->\n<g id=\"edge1\" class=\"edge\">\n<title>140575085732880:l&#45;&gt;140575085736096:v</title>\n<path fill=\"none\" stroke=\"black\" d=\"M21,-132C21,-116.93 19.73,-110.9 19.21,-99.5\"/>\n<polygon fill=\"black\" stroke=\"black\" points=\"22.71,-99.42 19,-89.5 15.71,-99.57 22.71,-99.42\"/>\n</g>\n<!-- 140575085736288 -->\n<g id=\"node3\" class=\"node\">\n<title>140575085736288</title>\n<path fill=\"#292929\" stroke=\"#292929\" d=\"M61.33,-66.5C61.33,-66.5 82.67,-66.5 82.67,-66.5 86.33,-66.5 90,-70.17 90,-73.83 90,-73.83 90,-81.17 90,-81.17 90,-84.83 86.33,-88.5 82.67,-88.5 82.67,-88.5 61.33,-88.5 61.33,-88.5 57.67,-88.5 54,-84.83 54,-81.17 54,-81.17 54,-73.83 54,-73.83 54,-70.17 57.67,-66.5 61.33,-66.5\"/>\n<text text-anchor=\"middle\" x=\"58\" y=\"-75.6\" font-family=\"Hack\" font-size=\"8.00\" fill=\"white\"> </text>\n<polyline fill=\"none\" stroke=\"#292929\" points=\"62,-66.5 62,-88.5 \"/>\n<text text-anchor=\"middle\" x=\"72.5\" y=\"-75.6\" font-family=\"Hack\" font-size=\"8.00\" fill=\"white\">None</text>\n<polyline fill=\"none\" stroke=\"#292929\" points=\"83,-66.5 83,-88.5 \"/>\n<text text-anchor=\"middle\" x=\"86.5\" y=\"-75.6\" font-family=\"Hack\" font-size=\"8.00\" fill=\"white\"> </text>\n</g>\n<!-- 140575085732880&#45;&gt;140575085736288 -->\n<g id=\"edge2\" class=\"edge\">\n<title>140575085732880:r&#45;&gt;140575085736288:v</title>\n<path fill=\"none\" stroke=\"black\" d=\"M71,-132C71,-116.93 72.27,-110.9 72.79,-99.5\"/>\n<polygon fill=\"black\" stroke=\"black\" points=\"76.29,-99.57 73,-89.5 69.29,-99.42 76.29,-99.57\"/>\n</g>\n<!-- 140574848984128 -->\n<g id=\"node4\" class=\"node\">\n<title>140574848984128</title>\n<path fill=\"#ee6a50\" stroke=\"#ee6a50\" d=\"M70.5,-205.5C70.5,-205.5 121.5,-205.5 121.5,-205.5 127.5,-205.5 133.5,-211.5 133.5,-217.5 133.5,-217.5 133.5,-229.5 133.5,-229.5 133.5,-235.5 127.5,-241.5 121.5,-241.5 121.5,-241.5 70.5,-241.5 70.5,-241.5 64.5,-241.5 58.5,-235.5 58.5,-229.5 58.5,-229.5 58.5,-217.5 58.5,-217.5 58.5,-211.5 64.5,-205.5 70.5,-205.5\"/>\n<text text-anchor=\"middle\" x=\"71\" y=\"-219.8\" font-family=\"Hack\" font-size=\"14.00\" fill=\"white\"> </text>\n<polyline fill=\"none\" stroke=\"#ee6a50\" points=\"83.5,-205.5 83.5,-241.5 \"/>\n<text text-anchor=\"middle\" x=\"96\" y=\"-219.8\" font-family=\"Hack\" font-size=\"14.00\" fill=\"white\">2</text>\n<polyline fill=\"none\" stroke=\"#ee6a50\" points=\"108.5,-205.5 108.5,-241.5 \"/>\n<text text-anchor=\"middle\" x=\"121\" y=\"-219.8\" font-family=\"Hack\" font-size=\"14.00\" fill=\"white\"> </text>\n</g>\n<!-- 140574848984128&#45;&gt;140575085732880 -->\n<g id=\"edge3\" class=\"edge\">\n<title>140574848984128:l&#45;&gt;140575085732880:v</title>\n<path fill=\"none\" stroke=\"black\" d=\"M71,-205C71,-189.63 55.43,-188.23 48.87,-178.75\"/>\n<polygon fill=\"black\" stroke=\"black\" points=\"52.18,-177.61 46,-169 45.46,-179.58 52.18,-177.61\"/>\n</g>\n<!-- 140575085736720 -->\n<g id=\"node5\" class=\"node\">\n<title>140575085736720</title>\n<path fill=\"#292929\" stroke=\"#292929\" d=\"M109.33,-139.5C109.33,-139.5 130.67,-139.5 130.67,-139.5 134.33,-139.5 138,-143.17 138,-146.83 138,-146.83 138,-154.17 138,-154.17 138,-157.83 134.33,-161.5 130.67,-161.5 130.67,-161.5 109.33,-161.5 109.33,-161.5 105.67,-161.5 102,-157.83 102,-154.17 102,-154.17 102,-146.83 102,-146.83 102,-143.17 105.67,-139.5 109.33,-139.5\"/>\n<text text-anchor=\"middle\" x=\"106\" y=\"-148.6\" font-family=\"Hack\" font-size=\"8.00\" fill=\"white\"> </text>\n<polyline fill=\"none\" stroke=\"#292929\" points=\"110,-139.5 110,-161.5 \"/>\n<text text-anchor=\"middle\" x=\"120.5\" y=\"-148.6\" font-family=\"Hack\" font-size=\"8.00\" fill=\"white\">None</text>\n<polyline fill=\"none\" stroke=\"#292929\" points=\"131,-139.5 131,-161.5 \"/>\n<text text-anchor=\"middle\" x=\"134.5\" y=\"-148.6\" font-family=\"Hack\" font-size=\"8.00\" fill=\"white\"> </text>\n</g>\n<!-- 140574848984128&#45;&gt;140575085736720 -->\n<g id=\"edge4\" class=\"edge\">\n<title>140574848984128:r&#45;&gt;140575085736720:v</title>\n<path fill=\"none\" stroke=\"black\" d=\"M121,-205C121,-190.1 121,-184.01 121,-172.83\"/>\n<polygon fill=\"black\" stroke=\"black\" points=\"124.5,-172.5 121,-162.5 117.5,-172.5 124.5,-172.5\"/>\n</g>\n<!-- 140574848315984 -->\n<g id=\"node6\" class=\"node\">\n<title>140574848315984</title>\n<path fill=\"#ee6a50\" stroke=\"#ee6a50\" d=\"M168.5,-278.5C168.5,-278.5 219.5,-278.5 219.5,-278.5 225.5,-278.5 231.5,-284.5 231.5,-290.5 231.5,-290.5 231.5,-302.5 231.5,-302.5 231.5,-308.5 225.5,-314.5 219.5,-314.5 219.5,-314.5 168.5,-314.5 168.5,-314.5 162.5,-314.5 156.5,-308.5 156.5,-302.5 156.5,-302.5 156.5,-290.5 156.5,-290.5 156.5,-284.5 162.5,-278.5 168.5,-278.5\"/>\n<text text-anchor=\"middle\" x=\"169\" y=\"-292.8\" font-family=\"Hack\" font-size=\"14.00\" fill=\"white\"> </text>\n<polyline fill=\"none\" stroke=\"#ee6a50\" points=\"181.5,-278.5 181.5,-314.5 \"/>\n<text text-anchor=\"middle\" x=\"194\" y=\"-292.8\" font-family=\"Hack\" font-size=\"14.00\" fill=\"white\">3</text>\n<polyline fill=\"none\" stroke=\"#ee6a50\" points=\"206.5,-278.5 206.5,-314.5 \"/>\n<text text-anchor=\"middle\" x=\"219\" y=\"-292.8\" font-family=\"Hack\" font-size=\"14.00\" fill=\"white\"> </text>\n</g>\n<!-- 140574848315984&#45;&gt;140574848984128 -->\n<g id=\"edge5\" class=\"edge\">\n<title>140574848315984:l&#45;&gt;140574848984128:v</title>\n<path fill=\"none\" stroke=\"black\" d=\"M169,-278C169,-245.92 111.6,-270.87 98.6,-251.71\"/>\n<polygon fill=\"black\" stroke=\"black\" points=\"101.97,-250.76 96,-242 95.2,-252.56 101.97,-250.76\"/>\n</g>\n<!-- 140575085731824 -->\n<g id=\"node7\" class=\"node\">\n<title>140575085731824</title>\n<path fill=\"#ee6a50\" stroke=\"#ee6a50\" d=\"M193.5,-205.5C193.5,-205.5 244.5,-205.5 244.5,-205.5 250.5,-205.5 256.5,-211.5 256.5,-217.5 256.5,-217.5 256.5,-229.5 256.5,-229.5 256.5,-235.5 250.5,-241.5 244.5,-241.5 244.5,-241.5 193.5,-241.5 193.5,-241.5 187.5,-241.5 181.5,-235.5 181.5,-229.5 181.5,-229.5 181.5,-217.5 181.5,-217.5 181.5,-211.5 187.5,-205.5 193.5,-205.5\"/>\n<text text-anchor=\"middle\" x=\"194\" y=\"-219.8\" font-family=\"Hack\" font-size=\"14.00\" fill=\"white\"> </text>\n<polyline fill=\"none\" stroke=\"#ee6a50\" points=\"206.5,-205.5 206.5,-241.5 \"/>\n<text text-anchor=\"middle\" x=\"219\" y=\"-219.8\" font-family=\"Hack\" font-size=\"14.00\" fill=\"white\">4</text>\n<polyline fill=\"none\" stroke=\"#ee6a50\" points=\"231.5,-205.5 231.5,-241.5 \"/>\n<text text-anchor=\"middle\" x=\"244\" y=\"-219.8\" font-family=\"Hack\" font-size=\"14.00\" fill=\"white\"> </text>\n</g>\n<!-- 140574848315984&#45;&gt;140575085731824 -->\n<g id=\"edge6\" class=\"edge\">\n<title>140574848315984:r&#45;&gt;140575085731824:v</title>\n<path fill=\"none\" stroke=\"black\" d=\"M219,-278C219,-266 219,-260.75 219,-252.12\"/>\n<polygon fill=\"black\" stroke=\"black\" points=\"222.5,-252 219,-242 215.5,-252 222.5,-252\"/>\n</g>\n<!-- 140575085736816 -->\n<g id=\"node11\" class=\"node\">\n<title>140575085736816</title>\n<path fill=\"#ee6a50\" stroke=\"#ee6a50\" d=\"M168.5,-132.5C168.5,-132.5 219.5,-132.5 219.5,-132.5 225.5,-132.5 231.5,-138.5 231.5,-144.5 231.5,-144.5 231.5,-156.5 231.5,-156.5 231.5,-162.5 225.5,-168.5 219.5,-168.5 219.5,-168.5 168.5,-168.5 168.5,-168.5 162.5,-168.5 156.5,-162.5 156.5,-156.5 156.5,-156.5 156.5,-144.5 156.5,-144.5 156.5,-138.5 162.5,-132.5 168.5,-132.5\"/>\n<text text-anchor=\"middle\" x=\"169\" y=\"-146.8\" font-family=\"Hack\" font-size=\"14.00\" fill=\"white\"> </text>\n<polyline fill=\"none\" stroke=\"#ee6a50\" points=\"181.5,-132.5 181.5,-168.5 \"/>\n<text text-anchor=\"middle\" x=\"194\" y=\"-146.8\" font-family=\"Hack\" font-size=\"14.00\" fill=\"white\">4</text>\n<polyline fill=\"none\" stroke=\"#ee6a50\" points=\"206.5,-132.5 206.5,-168.5 \"/>\n<text text-anchor=\"middle\" x=\"219\" y=\"-146.8\" font-family=\"Hack\" font-size=\"14.00\" fill=\"white\"> </text>\n</g>\n<!-- 140575085731824&#45;&gt;140575085736816 -->\n<g id=\"edge11\" class=\"edge\">\n<title>140575085731824:l&#45;&gt;140575085736816:v</title>\n<path fill=\"none\" stroke=\"black\" d=\"M194,-205C194,-193 194,-187.75 194,-179.12\"/>\n<polygon fill=\"black\" stroke=\"black\" points=\"197.5,-179 194,-169 190.5,-179 197.5,-179\"/>\n</g>\n<!-- 140575087775264 -->\n<g id=\"node13\" class=\"node\">\n<title>140575087775264</title>\n<path fill=\"#292929\" stroke=\"#292929\" d=\"M257.33,-139.5C257.33,-139.5 278.67,-139.5 278.67,-139.5 282.33,-139.5 286,-143.17 286,-146.83 286,-146.83 286,-154.17 286,-154.17 286,-157.83 282.33,-161.5 278.67,-161.5 278.67,-161.5 257.33,-161.5 257.33,-161.5 253.67,-161.5 250,-157.83 250,-154.17 250,-154.17 250,-146.83 250,-146.83 250,-143.17 253.67,-139.5 257.33,-139.5\"/>\n<text text-anchor=\"middle\" x=\"254\" y=\"-148.6\" font-family=\"Hack\" font-size=\"8.00\" fill=\"white\"> </text>\n<polyline fill=\"none\" stroke=\"#292929\" points=\"258,-139.5 258,-161.5 \"/>\n<text text-anchor=\"middle\" x=\"268.5\" y=\"-148.6\" font-family=\"Hack\" font-size=\"8.00\" fill=\"white\">None</text>\n<polyline fill=\"none\" stroke=\"#292929\" points=\"279,-139.5 279,-161.5 \"/>\n<text text-anchor=\"middle\" x=\"282.5\" y=\"-148.6\" font-family=\"Hack\" font-size=\"8.00\" fill=\"white\"> </text>\n</g>\n<!-- 140575085731824&#45;&gt;140575087775264 -->\n<g id=\"edge12\" class=\"edge\">\n<title>140575085731824:r&#45;&gt;140575087775264:v</title>\n<path fill=\"none\" stroke=\"black\" d=\"M244,-205C244,-187.02 260.82,-184.69 266.87,-172.33\"/>\n<polygon fill=\"black\" stroke=\"black\" points=\"270.3,-173.01 269,-162.5 263.46,-171.53 270.3,-173.01\"/>\n</g>\n<!-- 140575086000304 -->\n<g id=\"node8\" class=\"node\">\n<title>140575086000304</title>\n<path fill=\"#292929\" stroke=\"#292929\" d=\"M118.33,-0.5C118.33,-0.5 139.67,-0.5 139.67,-0.5 143.33,-0.5 147,-4.17 147,-7.83 147,-7.83 147,-15.17 147,-15.17 147,-18.83 143.33,-22.5 139.67,-22.5 139.67,-22.5 118.33,-22.5 118.33,-22.5 114.67,-22.5 111,-18.83 111,-15.17 111,-15.17 111,-7.83 111,-7.83 111,-4.17 114.67,-0.5 118.33,-0.5\"/>\n<text text-anchor=\"middle\" x=\"115\" y=\"-9.6\" font-family=\"Hack\" font-size=\"8.00\" fill=\"white\"> </text>\n<polyline fill=\"none\" stroke=\"#292929\" points=\"119,-0.5 119,-22.5 \"/>\n<text text-anchor=\"middle\" x=\"129.5\" y=\"-9.6\" font-family=\"Hack\" font-size=\"8.00\" fill=\"white\">None</text>\n<polyline fill=\"none\" stroke=\"#292929\" points=\"140,-0.5 140,-22.5 \"/>\n<text text-anchor=\"middle\" x=\"143.5\" y=\"-9.6\" font-family=\"Hack\" font-size=\"8.00\" fill=\"white\"> </text>\n</g>\n<!-- 140575085732496 -->\n<g id=\"node9\" class=\"node\">\n<title>140575085732496</title>\n<path fill=\"#ee6a50\" stroke=\"#ee6a50\" d=\"M131.5,-59.5C131.5,-59.5 182.5,-59.5 182.5,-59.5 188.5,-59.5 194.5,-65.5 194.5,-71.5 194.5,-71.5 194.5,-83.5 194.5,-83.5 194.5,-89.5 188.5,-95.5 182.5,-95.5 182.5,-95.5 131.5,-95.5 131.5,-95.5 125.5,-95.5 119.5,-89.5 119.5,-83.5 119.5,-83.5 119.5,-71.5 119.5,-71.5 119.5,-65.5 125.5,-59.5 131.5,-59.5\"/>\n<text text-anchor=\"middle\" x=\"132\" y=\"-73.8\" font-family=\"Hack\" font-size=\"14.00\" fill=\"white\"> </text>\n<polyline fill=\"none\" stroke=\"#ee6a50\" points=\"144.5,-59.5 144.5,-95.5 \"/>\n<text text-anchor=\"middle\" x=\"157\" y=\"-73.8\" font-family=\"Hack\" font-size=\"14.00\" fill=\"white\">4</text>\n<polyline fill=\"none\" stroke=\"#ee6a50\" points=\"169.5,-59.5 169.5,-95.5 \"/>\n<text text-anchor=\"middle\" x=\"182\" y=\"-73.8\" font-family=\"Hack\" font-size=\"14.00\" fill=\"white\"> </text>\n</g>\n<!-- 140575085732496&#45;&gt;140575086000304 -->\n<g id=\"edge7\" class=\"edge\">\n<title>140575085732496:l&#45;&gt;140575086000304:v</title>\n<path fill=\"none\" stroke=\"black\" d=\"M132,-59C132,-46.98 130.88,-41.75 130.31,-33.13\"/>\n<polygon fill=\"black\" stroke=\"black\" points=\"133.81,-32.89 130,-23 126.81,-33.1 133.81,-32.89\"/>\n</g>\n<!-- 140575085992912 -->\n<g id=\"node10\" class=\"node\">\n<title>140575085992912</title>\n<path fill=\"#292929\" stroke=\"#292929\" d=\"M172.33,-0.5C172.33,-0.5 193.67,-0.5 193.67,-0.5 197.33,-0.5 201,-4.17 201,-7.83 201,-7.83 201,-15.17 201,-15.17 201,-18.83 197.33,-22.5 193.67,-22.5 193.67,-22.5 172.33,-22.5 172.33,-22.5 168.67,-22.5 165,-18.83 165,-15.17 165,-15.17 165,-7.83 165,-7.83 165,-4.17 168.67,-0.5 172.33,-0.5\"/>\n<text text-anchor=\"middle\" x=\"169\" y=\"-9.6\" font-family=\"Hack\" font-size=\"8.00\" fill=\"white\"> </text>\n<polyline fill=\"none\" stroke=\"#292929\" points=\"173,-0.5 173,-22.5 \"/>\n<text text-anchor=\"middle\" x=\"183.5\" y=\"-9.6\" font-family=\"Hack\" font-size=\"8.00\" fill=\"white\">None</text>\n<polyline fill=\"none\" stroke=\"#292929\" points=\"194,-0.5 194,-22.5 \"/>\n<text text-anchor=\"middle\" x=\"197.5\" y=\"-9.6\" font-family=\"Hack\" font-size=\"8.00\" fill=\"white\"> </text>\n</g>\n<!-- 140575085732496&#45;&gt;140575085992912 -->\n<g id=\"edge8\" class=\"edge\">\n<title>140575085732496:r&#45;&gt;140575085992912:v</title>\n<path fill=\"none\" stroke=\"black\" d=\"M182,-59C182,-46.98 183.12,-41.75 183.69,-33.13\"/>\n<polygon fill=\"black\" stroke=\"black\" points=\"187.19,-33.1 184,-23 180.19,-32.89 187.19,-33.1\"/>\n</g>\n<!-- 140575085736816&#45;&gt;140575085732496 -->\n<g id=\"edge9\" class=\"edge\">\n<title>140575085736816:l&#45;&gt;140575085732496:v</title>\n<path fill=\"none\" stroke=\"black\" d=\"M169,-132C169,-119.22 162.11,-114.82 158.77,-106.1\"/>\n<polygon fill=\"black\" stroke=\"black\" points=\"162.17,-105.25 157,-96 155.28,-106.45 162.17,-105.25\"/>\n</g>\n<!-- 140575085998384 -->\n<g id=\"node12\" class=\"node\">\n<title>140575085998384</title>\n<path fill=\"#292929\" stroke=\"#292929\" d=\"M220.33,-66.5C220.33,-66.5 241.67,-66.5 241.67,-66.5 245.33,-66.5 249,-70.17 249,-73.83 249,-73.83 249,-81.17 249,-81.17 249,-84.83 245.33,-88.5 241.67,-88.5 241.67,-88.5 220.33,-88.5 220.33,-88.5 216.67,-88.5 213,-84.83 213,-81.17 213,-81.17 213,-73.83 213,-73.83 213,-70.17 216.67,-66.5 220.33,-66.5\"/>\n<text text-anchor=\"middle\" x=\"217\" y=\"-75.6\" font-family=\"Hack\" font-size=\"8.00\" fill=\"white\"> </text>\n<polyline fill=\"none\" stroke=\"#292929\" points=\"221,-66.5 221,-88.5 \"/>\n<text text-anchor=\"middle\" x=\"231.5\" y=\"-75.6\" font-family=\"Hack\" font-size=\"8.00\" fill=\"white\">None</text>\n<polyline fill=\"none\" stroke=\"#292929\" points=\"242,-66.5 242,-88.5 \"/>\n<text text-anchor=\"middle\" x=\"245.5\" y=\"-75.6\" font-family=\"Hack\" font-size=\"8.00\" fill=\"white\"> </text>\n</g>\n<!-- 140575085736816&#45;&gt;140575085998384 -->\n<g id=\"edge10\" class=\"edge\">\n<title>140575085736816:r&#45;&gt;140575085998384:v</title>\n<path fill=\"none\" stroke=\"black\" d=\"M219,-132C219,-116.26 227.26,-111.16 230.61,-99.74\"/>\n<polygon fill=\"black\" stroke=\"black\" points=\"234.12,-99.88 232,-89.5 227.19,-98.94 234.12,-99.88\"/>\n</g>\n<!-- 140574848979760 -->\n<g id=\"node14\" class=\"node\">\n<title>140574848979760</title>\n<path fill=\"black\" stroke=\"black\" d=\"M230.5,-351.5C230.5,-351.5 281.5,-351.5 281.5,-351.5 287.5,-351.5 293.5,-357.5 293.5,-363.5 293.5,-363.5 293.5,-375.5 293.5,-375.5 293.5,-381.5 287.5,-387.5 281.5,-387.5 281.5,-387.5 230.5,-387.5 230.5,-387.5 224.5,-387.5 218.5,-381.5 218.5,-375.5 218.5,-375.5 218.5,-363.5 218.5,-363.5 218.5,-357.5 224.5,-351.5 230.5,-351.5\"/>\n<text text-anchor=\"middle\" x=\"231\" y=\"-365.8\" font-family=\"Hack\" font-size=\"14.00\" fill=\"white\"> </text>\n<polyline fill=\"none\" stroke=\"black\" points=\"243.5,-351.5 243.5,-387.5 \"/>\n<text text-anchor=\"middle\" x=\"256\" y=\"-365.8\" font-family=\"Hack\" font-size=\"14.00\" fill=\"white\">4</text>\n<polyline fill=\"none\" stroke=\"black\" points=\"268.5,-351.5 268.5,-387.5 \"/>\n<text text-anchor=\"middle\" x=\"281\" y=\"-365.8\" font-family=\"Hack\" font-size=\"14.00\" fill=\"white\"> </text>\n</g>\n<!-- 140574848979760&#45;&gt;140574848315984 -->\n<g id=\"edge13\" class=\"edge\">\n<title>140574848979760:l&#45;&gt;140574848315984:v</title>\n<path fill=\"none\" stroke=\"black\" d=\"M231,-351C231,-332.18 206.1,-335.45 197.15,-324.57\"/>\n<polygon fill=\"black\" stroke=\"black\" points=\"200.46,-323.4 194,-315 193.81,-325.59 200.46,-323.4\"/>\n</g>\n<!-- 140575085975376 -->\n<g id=\"node15\" class=\"node\">\n<title>140575085975376</title>\n<path fill=\"#ee6a50\" stroke=\"#ee6a50\" d=\"M293.5,-278.5C293.5,-278.5 344.5,-278.5 344.5,-278.5 350.5,-278.5 356.5,-284.5 356.5,-290.5 356.5,-290.5 356.5,-302.5 356.5,-302.5 356.5,-308.5 350.5,-314.5 344.5,-314.5 344.5,-314.5 293.5,-314.5 293.5,-314.5 287.5,-314.5 281.5,-308.5 281.5,-302.5 281.5,-302.5 281.5,-290.5 281.5,-290.5 281.5,-284.5 287.5,-278.5 293.5,-278.5\"/>\n<text text-anchor=\"middle\" x=\"294\" y=\"-292.8\" font-family=\"Hack\" font-size=\"14.00\" fill=\"white\"> </text>\n<polyline fill=\"none\" stroke=\"#ee6a50\" points=\"306.5,-278.5 306.5,-314.5 \"/>\n<text text-anchor=\"middle\" x=\"319\" y=\"-292.8\" font-family=\"Hack\" font-size=\"14.00\" fill=\"white\">5</text>\n<polyline fill=\"none\" stroke=\"#ee6a50\" points=\"331.5,-278.5 331.5,-314.5 \"/>\n<text text-anchor=\"middle\" x=\"344\" y=\"-292.8\" font-family=\"Hack\" font-size=\"14.00\" fill=\"white\"> </text>\n</g>\n<!-- 140574848979760&#45;&gt;140575085975376 -->\n<g id=\"edge14\" class=\"edge\">\n<title>140574848979760:r&#45;&gt;140575085975376:v</title>\n<path fill=\"none\" stroke=\"black\" d=\"M281,-351C281,-331.92 306.57,-335.57 315.76,-324.66\"/>\n<polygon fill=\"black\" stroke=\"black\" points=\"319.14,-325.59 319,-315 312.5,-323.37 319.14,-325.59\"/>\n</g>\n<!-- 140574848317376 -->\n<g id=\"node16\" class=\"node\">\n<title>140574848317376</title>\n<path fill=\"#292929\" stroke=\"#292929\" d=\"M282.33,-212.5C282.33,-212.5 303.67,-212.5 303.67,-212.5 307.33,-212.5 311,-216.17 311,-219.83 311,-219.83 311,-227.17 311,-227.17 311,-230.83 307.33,-234.5 303.67,-234.5 303.67,-234.5 282.33,-234.5 282.33,-234.5 278.67,-234.5 275,-230.83 275,-227.17 275,-227.17 275,-219.83 275,-219.83 275,-216.17 278.67,-212.5 282.33,-212.5\"/>\n<text text-anchor=\"middle\" x=\"279\" y=\"-221.6\" font-family=\"Hack\" font-size=\"8.00\" fill=\"white\"> </text>\n<polyline fill=\"none\" stroke=\"#292929\" points=\"283,-212.5 283,-234.5 \"/>\n<text text-anchor=\"middle\" x=\"293.5\" y=\"-221.6\" font-family=\"Hack\" font-size=\"8.00\" fill=\"white\">None</text>\n<polyline fill=\"none\" stroke=\"#292929\" points=\"304,-212.5 304,-234.5 \"/>\n<text text-anchor=\"middle\" x=\"307.5\" y=\"-221.6\" font-family=\"Hack\" font-size=\"8.00\" fill=\"white\"> </text>\n</g>\n<!-- 140575085975376&#45;&gt;140574848317376 -->\n<g id=\"edge15\" class=\"edge\">\n<title>140575085975376:l&#45;&gt;140574848317376:v</title>\n<path fill=\"none\" stroke=\"black\" d=\"M294,-278C294,-263.1 294,-257.01 294,-245.83\"/>\n<polygon fill=\"black\" stroke=\"black\" points=\"297.5,-245.5 294,-235.5 290.5,-245.5 297.5,-245.5\"/>\n</g>\n<!-- 140574848988208 -->\n<g id=\"node17\" class=\"node\">\n<title>140574848988208</title>\n<path fill=\"#ee6a50\" stroke=\"#ee6a50\" d=\"M341.5,-205.5C341.5,-205.5 392.5,-205.5 392.5,-205.5 398.5,-205.5 404.5,-211.5 404.5,-217.5 404.5,-217.5 404.5,-229.5 404.5,-229.5 404.5,-235.5 398.5,-241.5 392.5,-241.5 392.5,-241.5 341.5,-241.5 341.5,-241.5 335.5,-241.5 329.5,-235.5 329.5,-229.5 329.5,-229.5 329.5,-217.5 329.5,-217.5 329.5,-211.5 335.5,-205.5 341.5,-205.5\"/>\n<text text-anchor=\"middle\" x=\"342\" y=\"-219.8\" font-family=\"Hack\" font-size=\"14.00\" fill=\"white\"> </text>\n<polyline fill=\"none\" stroke=\"#ee6a50\" points=\"354.5,-205.5 354.5,-241.5 \"/>\n<text text-anchor=\"middle\" x=\"367\" y=\"-219.8\" font-family=\"Hack\" font-size=\"14.00\" fill=\"white\">7</text>\n<polyline fill=\"none\" stroke=\"#ee6a50\" points=\"379.5,-205.5 379.5,-241.5 \"/>\n<text text-anchor=\"middle\" x=\"392\" y=\"-219.8\" font-family=\"Hack\" font-size=\"14.00\" fill=\"white\"> </text>\n</g>\n<!-- 140575085975376&#45;&gt;140574848988208 -->\n<g id=\"edge16\" class=\"edge\">\n<title>140575085975376:r&#45;&gt;140574848988208:v</title>\n<path fill=\"none\" stroke=\"black\" d=\"M344,-278C344,-263.17 358.04,-261.13 364.18,-251.89\"/>\n<polygon fill=\"black\" stroke=\"black\" points=\"367.62,-252.58 367,-242 360.89,-250.66 367.62,-252.58\"/>\n</g>\n<!-- 140574849171664 -->\n<g id=\"node18\" class=\"node\">\n<title>140574849171664</title>\n<path fill=\"#292929\" stroke=\"#292929\" d=\"M328.33,-139.5C328.33,-139.5 349.67,-139.5 349.67,-139.5 353.33,-139.5 357,-143.17 357,-146.83 357,-146.83 357,-154.17 357,-154.17 357,-157.83 353.33,-161.5 349.67,-161.5 349.67,-161.5 328.33,-161.5 328.33,-161.5 324.67,-161.5 321,-157.83 321,-154.17 321,-154.17 321,-146.83 321,-146.83 321,-143.17 324.67,-139.5 328.33,-139.5\"/>\n<text text-anchor=\"middle\" x=\"325\" y=\"-148.6\" font-family=\"Hack\" font-size=\"8.00\" fill=\"white\"> </text>\n<polyline fill=\"none\" stroke=\"#292929\" points=\"329,-139.5 329,-161.5 \"/>\n<text text-anchor=\"middle\" x=\"339.5\" y=\"-148.6\" font-family=\"Hack\" font-size=\"8.00\" fill=\"white\">None</text>\n<polyline fill=\"none\" stroke=\"#292929\" points=\"350,-139.5 350,-161.5 \"/>\n<text text-anchor=\"middle\" x=\"353.5\" y=\"-148.6\" font-family=\"Hack\" font-size=\"8.00\" fill=\"white\"> </text>\n</g>\n<!-- 140574848988208&#45;&gt;140574849171664 -->\n<g id=\"edge17\" class=\"edge\">\n<title>140574848988208:l&#45;&gt;140574849171664:v</title>\n<path fill=\"none\" stroke=\"black\" d=\"M342,-205C342,-189.93 340.73,-183.9 340.21,-172.5\"/>\n<polygon fill=\"black\" stroke=\"black\" points=\"343.71,-172.42 340,-162.5 336.71,-172.57 343.71,-172.42\"/>\n</g>\n<!-- 140574849184336 -->\n<g id=\"node19\" class=\"node\">\n<title>140574849184336</title>\n<path fill=\"#292929\" stroke=\"#292929\" d=\"M382.33,-139.5C382.33,-139.5 403.67,-139.5 403.67,-139.5 407.33,-139.5 411,-143.17 411,-146.83 411,-146.83 411,-154.17 411,-154.17 411,-157.83 407.33,-161.5 403.67,-161.5 403.67,-161.5 382.33,-161.5 382.33,-161.5 378.67,-161.5 375,-157.83 375,-154.17 375,-154.17 375,-146.83 375,-146.83 375,-143.17 378.67,-139.5 382.33,-139.5\"/>\n<text text-anchor=\"middle\" x=\"379\" y=\"-148.6\" font-family=\"Hack\" font-size=\"8.00\" fill=\"white\"> </text>\n<polyline fill=\"none\" stroke=\"#292929\" points=\"383,-139.5 383,-161.5 \"/>\n<text text-anchor=\"middle\" x=\"393.5\" y=\"-148.6\" font-family=\"Hack\" font-size=\"8.00\" fill=\"white\">None</text>\n<polyline fill=\"none\" stroke=\"#292929\" points=\"404,-139.5 404,-161.5 \"/>\n<text text-anchor=\"middle\" x=\"407.5\" y=\"-148.6\" font-family=\"Hack\" font-size=\"8.00\" fill=\"white\"> </text>\n</g>\n<!-- 140574848988208&#45;&gt;140574849184336 -->\n<g id=\"edge18\" class=\"edge\">\n<title>140574848988208:r&#45;&gt;140574849184336:v</title>\n<path fill=\"none\" stroke=\"black\" d=\"M392,-205C392,-189.93 393.27,-183.9 393.79,-172.5\"/>\n<polygon fill=\"black\" stroke=\"black\" points=\"397.29,-172.57 394,-162.5 390.29,-172.42 397.29,-172.57\"/>\n</g>\n</g>\n</svg>\n",
      "text/plain": [
       "<__main__.RBTree at 0x7fda30105360>"
      ]
     },
     "execution_count": 187,
     "metadata": {},
     "output_type": "execute_result"
    }
   ],
   "source": [
    "t = RBTree(4)\n",
    "for n in [5, 7, 3, 2, 2, 4, 4, 4]:\n",
    "    t.insert(n)\n",
    "# t.root.left = Node(2, NodeColor.RED, parent_=t.root)\n",
    "print(len(t))\n",
    "t"
   ]
  }
 ],
 "metadata": {
  "interpreter": {
   "hash": "68931e2e76b6a7310d5f88e37c383783858d6f1262221c06e839ac3b7dd02389"
  },
  "kernelspec": {
   "display_name": "Python 3.10.1 64-bit",
   "language": "python",
   "name": "python3"
  },
  "language_info": {
   "codemirror_mode": {
    "name": "ipython",
    "version": 3
   },
   "file_extension": ".py",
   "mimetype": "text/x-python",
   "name": "python",
   "nbconvert_exporter": "python",
   "pygments_lexer": "ipython3",
   "version": "3.10.1"
  },
  "orig_nbformat": 4
 },
 "nbformat": 4,
 "nbformat_minor": 2
}
