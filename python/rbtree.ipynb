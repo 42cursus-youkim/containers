{
 "cells": [
  {
   "cell_type": "code",
   "execution_count": 153,
   "metadata": {},
   "outputs": [],
   "source": [
    "from __future__ import annotations\n",
    "from typing import TypeVar, Generic, Any, Iterator\n",
    "from dataclasses import dataclass, field\n",
    "from enum import IntEnum, auto\n",
    "from termcolor import colored\n",
    "from graphviz import Digraph, nohtml\n",
    "from abc import ABCMeta, abstractmethod\n",
    "from functools import total_ordering\n",
    "\n",
    "Cmp = TypeVar('Cmp', bound='Comparable')\n",
    "@total_ordering\n",
    "class Comparable(Generic[Cmp]):\n",
    "    @abstractmethod\n",
    "    def __lt__(self: Cmp, other: Any) -> bool: ...\n",
    "\n",
    "    @abstractmethod\n",
    "    def __gt__(self: Cmp, other: Cmp) -> bool: ...\n",
    "\n",
    "T = TypeVar('T', int, Comparable)"
   ]
  },
  {
   "cell_type": "code",
   "execution_count": 154,
   "metadata": {},
   "outputs": [],
   "source": [
    "class NodeColor(IntEnum):\n",
    "    RED = auto()\n",
    "    BLACK = auto()\n",
    "    NIL = auto()\n",
    "\n",
    "\n",
    "@dataclass\n",
    "class Node(Generic[T]):\n",
    "    value: T\n",
    "    color: NodeColor = NodeColor.RED\n",
    "    parent_: Node | None = field(default=None)\n",
    "\n",
    "    def __post_init__(self):\n",
    "        self.left: Node \n",
    "        self.right: Node \n",
    "\n",
    "        if self.color != NodeColor.NIL:\n",
    "            # Nil nodes have dummy value None\n",
    "            self.left = Node(value=None, color=NodeColor.NIL, parent_=self) # type: ignore\n",
    "            self.right = Node(value=None, color=NodeColor.NIL, parent_=self) # type: ignore\n",
    "    \n",
    "    @property\n",
    "    def is_nil(self) -> bool:\n",
    "        return self.color == NodeColor.NIL\n",
    "\n",
    "    @property\n",
    "    def is_black(self) -> bool:\n",
    "        return self.color in [NodeColor.BLACK, NodeColor.NIL]\n",
    "\n",
    "    def is_full(self) -> bool:\n",
    "        return not any([self.is_nil, self.left.is_nil, self.right.is_nil])\n",
    "\n",
    "    def __str__(self) -> str:\n",
    "        hl = 'on_magenta' if self.is_black else 'on_red'\n",
    "        return colored(str(self.value), on_color=hl, attrs=['dark'])\n",
    "\n",
    "    def in_order(self) -> Iterator[Node[T]]:\n",
    "        if not self.is_nil:\n",
    "            yield from self.left.in_order()\n",
    "        yield self\n",
    "        if not self.is_nil:\n",
    "            yield from self.right.in_order()\n",
    "    \n",
    "    def insert(self, node: Node[T]) -> None:\n",
    "        if self.is_nil:\n",
    "            raise ValueError('Cannot insert into nil node')\n",
    "        if node.value <= self.value:\n",
    "            if self.is_full():\n",
    "                self.left.insert(node)\n",
    "            else:\n",
    "                self.left = node\n",
    "        else:\n",
    "            if self.is_full():\n",
    "                self.right.insert(node)\n",
    "            else:\n",
    "                self.right = node\n"
   ]
  },
  {
   "cell_type": "code",
   "execution_count": 155,
   "metadata": {},
   "outputs": [],
   "source": [
    "class RBTree(Generic[T]):\n",
    "    \"\"\"\n",
    "    1. Each node is either red or black.\n",
    "    2. Root node must be black.\n",
    "    3. All leaves must be black.\n",
    "    4. Red nodes must have black children.\n",
    "    5. Every path from a node to a descendant leaf contains the same number of black nodes.\n",
    "    \"\"\"\n",
    "    def __init__(self, value: T) -> None:\n",
    "        self.root = Node(value, NodeColor.BLACK)\n",
    "    \n",
    "    def __iter__(self) -> Iterator[Node]:\n",
    "        yield from self.root.in_order()\n",
    "\n",
    "    def __len__(self) -> int:\n",
    "        return sum(1 for node in self if not node.is_nil)\n",
    "\n",
    "    def insert(self, value: T) -> None:\n",
    "        node = Node(value, color=NodeColor.RED)\n",
    "        self.root.insert(node)\n",
    "    \n",
    "    def _repr_svg_(self) -> str:\n",
    "        \"repr to Jupyter Notebook\"\n",
    "        return self.graphviz()._repr_image_svg_xml()\n",
    "\n",
    "    def graphviz(self, *args: Any, **kwargs: Any) -> Digraph:\n",
    "        def style(color: str):\n",
    "            return {'color': color, 'fillcolor': color}\n",
    "\n",
    "        if \"node_attr\" not in kwargs:\n",
    "            kwargs[\"node_attr\"] = {\n",
    "                \"shape\": \"record\",\n",
    "                \"style\": \"filled, rounded\",\n",
    "                \"fontname\": \"Hack\",\n",
    "                \"fontpath\": \"./asset/\",\n",
    "                \"fontcolor\": \"white\",\n",
    "            }\n",
    "\n",
    "        styles = { \n",
    "            NodeColor.RED: style('coral2'),\n",
    "            NodeColor.BLACK: style('black'),\n",
    "            NodeColor.NIL: style('gray16') | {'fixedsize':'true', 'width': '0.5', 'height': '0.3', 'magin': '0,0', 'fontsize': '8'} \n",
    "        }\n",
    "\n",
    "        digraph = Digraph(*args, **kwargs)\n",
    "\n",
    "        for node in self:\n",
    "            node_id = str(id(node))\n",
    "            digraph.node(node_id, nohtml(f\"<l>|<v> {node.value}|<r>\"), **styles[node.color])\n",
    "\n",
    "            if not node.is_nil:\n",
    "                digraph.edge(f\"{node_id}:l\", f\"{id(node.left)}:v\")\n",
    "                digraph.edge(f\"{node_id}:r\", f\"{id(node.right)}:v\")\n",
    "\n",
    "        return digraph"
   ]
  },
  {
   "cell_type": "code",
   "execution_count": 156,
   "metadata": {},
   "outputs": [
    {
     "name": "stdout",
     "output_type": "stream",
     "text": [
      "7\n"
     ]
    },
    {
     "data": {
      "image/svg+xml": "<?xml version=\"1.0\" encoding=\"UTF-8\" standalone=\"no\"?>\n<!DOCTYPE svg PUBLIC \"-//W3C//DTD SVG 1.1//EN\"\n \"http://www.w3.org/Graphics/SVG/1.1/DTD/svg11.dtd\">\n<!-- Generated by graphviz version 2.43.0 (0)\n -->\n<!-- Title: %3 Pages: 1 -->\n<svg width=\"371pt\" height=\"323pt\"\n viewBox=\"0.00 0.00 371.00 323.00\" xmlns=\"http://www.w3.org/2000/svg\" xmlns:xlink=\"http://www.w3.org/1999/xlink\">\n<g id=\"graph0\" class=\"graph\" transform=\"scale(1 1) rotate(0) translate(4 319)\">\n<title>%3</title>\n<polygon fill=\"white\" stroke=\"transparent\" points=\"-4,4 -4,-319 367,-319 367,4 -4,4\"/>\n<!-- 140575086755744 -->\n<g id=\"node1\" class=\"node\">\n<title>140575086755744</title>\n<path fill=\"#292929\" stroke=\"#292929\" d=\"M7.33,-66.5C7.33,-66.5 28.67,-66.5 28.67,-66.5 32.33,-66.5 36,-70.17 36,-73.83 36,-73.83 36,-81.17 36,-81.17 36,-84.83 32.33,-88.5 28.67,-88.5 28.67,-88.5 7.33,-88.5 7.33,-88.5 3.67,-88.5 0,-84.83 0,-81.17 0,-81.17 0,-73.83 0,-73.83 0,-70.17 3.67,-66.5 7.33,-66.5\"/>\n<text text-anchor=\"middle\" x=\"4\" y=\"-75.6\" font-family=\"Hack\" font-size=\"8.00\" fill=\"white\"> </text>\n<polyline fill=\"none\" stroke=\"#292929\" points=\"8,-66.5 8,-88.5 \"/>\n<text text-anchor=\"middle\" x=\"18.5\" y=\"-75.6\" font-family=\"Hack\" font-size=\"8.00\" fill=\"white\">None</text>\n<polyline fill=\"none\" stroke=\"#292929\" points=\"29,-66.5 29,-88.5 \"/>\n<text text-anchor=\"middle\" x=\"32.5\" y=\"-75.6\" font-family=\"Hack\" font-size=\"8.00\" fill=\"white\"> </text>\n</g>\n<!-- 140575086745904 -->\n<g id=\"node2\" class=\"node\">\n<title>140575086745904</title>\n<path fill=\"#ee6a50\" stroke=\"#ee6a50\" d=\"M22.5,-132.5C22.5,-132.5 73.5,-132.5 73.5,-132.5 79.5,-132.5 85.5,-138.5 85.5,-144.5 85.5,-144.5 85.5,-156.5 85.5,-156.5 85.5,-162.5 79.5,-168.5 73.5,-168.5 73.5,-168.5 22.5,-168.5 22.5,-168.5 16.5,-168.5 10.5,-162.5 10.5,-156.5 10.5,-156.5 10.5,-144.5 10.5,-144.5 10.5,-138.5 16.5,-132.5 22.5,-132.5\"/>\n<text text-anchor=\"middle\" x=\"23\" y=\"-146.8\" font-family=\"Hack\" font-size=\"14.00\" fill=\"white\"> </text>\n<polyline fill=\"none\" stroke=\"#ee6a50\" points=\"35.5,-132.5 35.5,-168.5 \"/>\n<text text-anchor=\"middle\" x=\"48\" y=\"-146.8\" font-family=\"Hack\" font-size=\"14.00\" fill=\"white\">2</text>\n<polyline fill=\"none\" stroke=\"#ee6a50\" points=\"60.5,-132.5 60.5,-168.5 \"/>\n<text text-anchor=\"middle\" x=\"73\" y=\"-146.8\" font-family=\"Hack\" font-size=\"14.00\" fill=\"white\"> </text>\n</g>\n<!-- 140575086745904&#45;&gt;140575086755744 -->\n<g id=\"edge1\" class=\"edge\">\n<title>140575086745904:l&#45;&gt;140575086755744:v</title>\n<path fill=\"none\" stroke=\"black\" d=\"M23,-132C23,-116.88 20.46,-110.92 19.43,-99.52\"/>\n<polygon fill=\"black\" stroke=\"black\" points=\"22.92,-99.34 19,-89.5 15.93,-99.64 22.92,-99.34\"/>\n</g>\n<!-- 140575086750848 -->\n<g id=\"node3\" class=\"node\">\n<title>140575086750848</title>\n<path fill=\"#292929\" stroke=\"#292929\" d=\"M61.33,-66.5C61.33,-66.5 82.67,-66.5 82.67,-66.5 86.33,-66.5 90,-70.17 90,-73.83 90,-73.83 90,-81.17 90,-81.17 90,-84.83 86.33,-88.5 82.67,-88.5 82.67,-88.5 61.33,-88.5 61.33,-88.5 57.67,-88.5 54,-84.83 54,-81.17 54,-81.17 54,-73.83 54,-73.83 54,-70.17 57.67,-66.5 61.33,-66.5\"/>\n<text text-anchor=\"middle\" x=\"58\" y=\"-75.6\" font-family=\"Hack\" font-size=\"8.00\" fill=\"white\"> </text>\n<polyline fill=\"none\" stroke=\"#292929\" points=\"62,-66.5 62,-88.5 \"/>\n<text text-anchor=\"middle\" x=\"72.5\" y=\"-75.6\" font-family=\"Hack\" font-size=\"8.00\" fill=\"white\">None</text>\n<polyline fill=\"none\" stroke=\"#292929\" points=\"83,-66.5 83,-88.5 \"/>\n<text text-anchor=\"middle\" x=\"86.5\" y=\"-75.6\" font-family=\"Hack\" font-size=\"8.00\" fill=\"white\"> </text>\n</g>\n<!-- 140575086745904&#45;&gt;140575086750848 -->\n<g id=\"edge2\" class=\"edge\">\n<title>140575086745904:r&#45;&gt;140575086750848:v</title>\n<path fill=\"none\" stroke=\"black\" d=\"M73,-132C73,-117.1 73,-111.01 73,-99.83\"/>\n<polygon fill=\"black\" stroke=\"black\" points=\"76.5,-99.5 73,-89.5 69.5,-99.5 76.5,-99.5\"/>\n</g>\n<!-- 140575086745088 -->\n<g id=\"node4\" class=\"node\">\n<title>140575086745088</title>\n<path fill=\"#ee6a50\" stroke=\"#ee6a50\" d=\"M120.5,-205.5C120.5,-205.5 171.5,-205.5 171.5,-205.5 177.5,-205.5 183.5,-211.5 183.5,-217.5 183.5,-217.5 183.5,-229.5 183.5,-229.5 183.5,-235.5 177.5,-241.5 171.5,-241.5 171.5,-241.5 120.5,-241.5 120.5,-241.5 114.5,-241.5 108.5,-235.5 108.5,-229.5 108.5,-229.5 108.5,-217.5 108.5,-217.5 108.5,-211.5 114.5,-205.5 120.5,-205.5\"/>\n<text text-anchor=\"middle\" x=\"121\" y=\"-219.8\" font-family=\"Hack\" font-size=\"14.00\" fill=\"white\"> </text>\n<polyline fill=\"none\" stroke=\"#ee6a50\" points=\"133.5,-205.5 133.5,-241.5 \"/>\n<text text-anchor=\"middle\" x=\"146\" y=\"-219.8\" font-family=\"Hack\" font-size=\"14.00\" fill=\"white\">3</text>\n<polyline fill=\"none\" stroke=\"#ee6a50\" points=\"158.5,-205.5 158.5,-241.5 \"/>\n<text text-anchor=\"middle\" x=\"171\" y=\"-219.8\" font-family=\"Hack\" font-size=\"14.00\" fill=\"white\"> </text>\n</g>\n<!-- 140575086745088&#45;&gt;140575086745904 -->\n<g id=\"edge3\" class=\"edge\">\n<title>140575086745088:l&#45;&gt;140575086745904:v</title>\n<path fill=\"none\" stroke=\"black\" d=\"M121,-205C121,-172.92 63.6,-197.87 50.6,-178.71\"/>\n<polygon fill=\"black\" stroke=\"black\" points=\"53.97,-177.76 48,-169 47.2,-179.56 53.97,-177.76\"/>\n</g>\n<!-- 140575086750080 -->\n<g id=\"node5\" class=\"node\">\n<title>140575086750080</title>\n<path fill=\"#ee6a50\" stroke=\"#ee6a50\" d=\"M145.5,-132.5C145.5,-132.5 196.5,-132.5 196.5,-132.5 202.5,-132.5 208.5,-138.5 208.5,-144.5 208.5,-144.5 208.5,-156.5 208.5,-156.5 208.5,-162.5 202.5,-168.5 196.5,-168.5 196.5,-168.5 145.5,-168.5 145.5,-168.5 139.5,-168.5 133.5,-162.5 133.5,-156.5 133.5,-156.5 133.5,-144.5 133.5,-144.5 133.5,-138.5 139.5,-132.5 145.5,-132.5\"/>\n<text text-anchor=\"middle\" x=\"146\" y=\"-146.8\" font-family=\"Hack\" font-size=\"14.00\" fill=\"white\"> </text>\n<polyline fill=\"none\" stroke=\"#ee6a50\" points=\"158.5,-132.5 158.5,-168.5 \"/>\n<text text-anchor=\"middle\" x=\"171\" y=\"-146.8\" font-family=\"Hack\" font-size=\"14.00\" fill=\"white\">4</text>\n<polyline fill=\"none\" stroke=\"#ee6a50\" points=\"183.5,-132.5 183.5,-168.5 \"/>\n<text text-anchor=\"middle\" x=\"196\" y=\"-146.8\" font-family=\"Hack\" font-size=\"14.00\" fill=\"white\"> </text>\n</g>\n<!-- 140575086745088&#45;&gt;140575086750080 -->\n<g id=\"edge4\" class=\"edge\">\n<title>140575086745088:r&#45;&gt;140575086750080:v</title>\n<path fill=\"none\" stroke=\"black\" d=\"M171,-205C171,-193 171,-187.75 171,-179.12\"/>\n<polygon fill=\"black\" stroke=\"black\" points=\"174.5,-179 171,-169 167.5,-179 174.5,-179\"/>\n</g>\n<!-- 140575086751088 -->\n<g id=\"node7\" class=\"node\">\n<title>140575086751088</title>\n<path fill=\"#ee6a50\" stroke=\"#ee6a50\" d=\"M120.5,-59.5C120.5,-59.5 171.5,-59.5 171.5,-59.5 177.5,-59.5 183.5,-65.5 183.5,-71.5 183.5,-71.5 183.5,-83.5 183.5,-83.5 183.5,-89.5 177.5,-95.5 171.5,-95.5 171.5,-95.5 120.5,-95.5 120.5,-95.5 114.5,-95.5 108.5,-89.5 108.5,-83.5 108.5,-83.5 108.5,-71.5 108.5,-71.5 108.5,-65.5 114.5,-59.5 120.5,-59.5\"/>\n<text text-anchor=\"middle\" x=\"121\" y=\"-73.8\" font-family=\"Hack\" font-size=\"14.00\" fill=\"white\"> </text>\n<polyline fill=\"none\" stroke=\"#ee6a50\" points=\"133.5,-59.5 133.5,-95.5 \"/>\n<text text-anchor=\"middle\" x=\"146\" y=\"-73.8\" font-family=\"Hack\" font-size=\"14.00\" fill=\"white\">4</text>\n<polyline fill=\"none\" stroke=\"#ee6a50\" points=\"158.5,-59.5 158.5,-95.5 \"/>\n<text text-anchor=\"middle\" x=\"171\" y=\"-73.8\" font-family=\"Hack\" font-size=\"14.00\" fill=\"white\"> </text>\n</g>\n<!-- 140575086750080&#45;&gt;140575086751088 -->\n<g id=\"edge7\" class=\"edge\">\n<title>140575086750080:l&#45;&gt;140575086751088:v</title>\n<path fill=\"none\" stroke=\"black\" d=\"M146,-132C146,-120 146,-114.75 146,-106.12\"/>\n<polygon fill=\"black\" stroke=\"black\" points=\"149.5,-106 146,-96 142.5,-106 149.5,-106\"/>\n</g>\n<!-- 140575086754592 -->\n<g id=\"node9\" class=\"node\">\n<title>140575086754592</title>\n<path fill=\"#292929\" stroke=\"#292929\" d=\"M209.33,-66.5C209.33,-66.5 230.67,-66.5 230.67,-66.5 234.33,-66.5 238,-70.17 238,-73.83 238,-73.83 238,-81.17 238,-81.17 238,-84.83 234.33,-88.5 230.67,-88.5 230.67,-88.5 209.33,-88.5 209.33,-88.5 205.67,-88.5 202,-84.83 202,-81.17 202,-81.17 202,-73.83 202,-73.83 202,-70.17 205.67,-66.5 209.33,-66.5\"/>\n<text text-anchor=\"middle\" x=\"206\" y=\"-75.6\" font-family=\"Hack\" font-size=\"8.00\" fill=\"white\"> </text>\n<polyline fill=\"none\" stroke=\"#292929\" points=\"210,-66.5 210,-88.5 \"/>\n<text text-anchor=\"middle\" x=\"220.5\" y=\"-75.6\" font-family=\"Hack\" font-size=\"8.00\" fill=\"white\">None</text>\n<polyline fill=\"none\" stroke=\"#292929\" points=\"231,-66.5 231,-88.5 \"/>\n<text text-anchor=\"middle\" x=\"234.5\" y=\"-75.6\" font-family=\"Hack\" font-size=\"8.00\" fill=\"white\"> </text>\n</g>\n<!-- 140575086750080&#45;&gt;140575086754592 -->\n<g id=\"edge8\" class=\"edge\">\n<title>140575086750080:r&#45;&gt;140575086754592:v</title>\n<path fill=\"none\" stroke=\"black\" d=\"M196,-132C196,-114.02 212.82,-111.69 218.87,-99.33\"/>\n<polygon fill=\"black\" stroke=\"black\" points=\"222.3,-100.01 221,-89.5 215.46,-98.53 222.3,-100.01\"/>\n</g>\n<!-- 140575086748640 -->\n<g id=\"node6\" class=\"node\">\n<title>140575086748640</title>\n<path fill=\"#292929\" stroke=\"#292929\" d=\"M107.33,-0.5C107.33,-0.5 128.67,-0.5 128.67,-0.5 132.33,-0.5 136,-4.17 136,-7.83 136,-7.83 136,-15.17 136,-15.17 136,-18.83 132.33,-22.5 128.67,-22.5 128.67,-22.5 107.33,-22.5 107.33,-22.5 103.67,-22.5 100,-18.83 100,-15.17 100,-15.17 100,-7.83 100,-7.83 100,-4.17 103.67,-0.5 107.33,-0.5\"/>\n<text text-anchor=\"middle\" x=\"104\" y=\"-9.6\" font-family=\"Hack\" font-size=\"8.00\" fill=\"white\"> </text>\n<polyline fill=\"none\" stroke=\"#292929\" points=\"108,-0.5 108,-22.5 \"/>\n<text text-anchor=\"middle\" x=\"118.5\" y=\"-9.6\" font-family=\"Hack\" font-size=\"8.00\" fill=\"white\">None</text>\n<polyline fill=\"none\" stroke=\"#292929\" points=\"129,-0.5 129,-22.5 \"/>\n<text text-anchor=\"middle\" x=\"132.5\" y=\"-9.6\" font-family=\"Hack\" font-size=\"8.00\" fill=\"white\"> </text>\n</g>\n<!-- 140575086751088&#45;&gt;140575086748640 -->\n<g id=\"edge5\" class=\"edge\">\n<title>140575086751088:l&#45;&gt;140575086748640:v</title>\n<path fill=\"none\" stroke=\"black\" d=\"M121,-59C121,-46.98 119.88,-41.75 119.31,-33.13\"/>\n<polygon fill=\"black\" stroke=\"black\" points=\"122.81,-32.89 119,-23 115.81,-33.1 122.81,-32.89\"/>\n</g>\n<!-- 140575086749552 -->\n<g id=\"node8\" class=\"node\">\n<title>140575086749552</title>\n<path fill=\"#292929\" stroke=\"#292929\" d=\"M161.33,-0.5C161.33,-0.5 182.67,-0.5 182.67,-0.5 186.33,-0.5 190,-4.17 190,-7.83 190,-7.83 190,-15.17 190,-15.17 190,-18.83 186.33,-22.5 182.67,-22.5 182.67,-22.5 161.33,-22.5 161.33,-22.5 157.67,-22.5 154,-18.83 154,-15.17 154,-15.17 154,-7.83 154,-7.83 154,-4.17 157.67,-0.5 161.33,-0.5\"/>\n<text text-anchor=\"middle\" x=\"158\" y=\"-9.6\" font-family=\"Hack\" font-size=\"8.00\" fill=\"white\"> </text>\n<polyline fill=\"none\" stroke=\"#292929\" points=\"162,-0.5 162,-22.5 \"/>\n<text text-anchor=\"middle\" x=\"172.5\" y=\"-9.6\" font-family=\"Hack\" font-size=\"8.00\" fill=\"white\">None</text>\n<polyline fill=\"none\" stroke=\"#292929\" points=\"183,-0.5 183,-22.5 \"/>\n<text text-anchor=\"middle\" x=\"186.5\" y=\"-9.6\" font-family=\"Hack\" font-size=\"8.00\" fill=\"white\"> </text>\n</g>\n<!-- 140575086751088&#45;&gt;140575086749552 -->\n<g id=\"edge6\" class=\"edge\">\n<title>140575086751088:r&#45;&gt;140575086749552:v</title>\n<path fill=\"none\" stroke=\"black\" d=\"M171,-59C171,-46.98 172.12,-41.75 172.69,-33.13\"/>\n<polygon fill=\"black\" stroke=\"black\" points=\"176.19,-33.1 173,-23 169.19,-32.89 176.19,-33.1\"/>\n</g>\n<!-- 140575086752192 -->\n<g id=\"node10\" class=\"node\">\n<title>140575086752192</title>\n<path fill=\"black\" stroke=\"black\" d=\"M182.5,-278.5C182.5,-278.5 233.5,-278.5 233.5,-278.5 239.5,-278.5 245.5,-284.5 245.5,-290.5 245.5,-290.5 245.5,-302.5 245.5,-302.5 245.5,-308.5 239.5,-314.5 233.5,-314.5 233.5,-314.5 182.5,-314.5 182.5,-314.5 176.5,-314.5 170.5,-308.5 170.5,-302.5 170.5,-302.5 170.5,-290.5 170.5,-290.5 170.5,-284.5 176.5,-278.5 182.5,-278.5\"/>\n<text text-anchor=\"middle\" x=\"183\" y=\"-292.8\" font-family=\"Hack\" font-size=\"14.00\" fill=\"white\"> </text>\n<polyline fill=\"none\" stroke=\"black\" points=\"195.5,-278.5 195.5,-314.5 \"/>\n<text text-anchor=\"middle\" x=\"208\" y=\"-292.8\" font-family=\"Hack\" font-size=\"14.00\" fill=\"white\">4</text>\n<polyline fill=\"none\" stroke=\"black\" points=\"220.5,-278.5 220.5,-314.5 \"/>\n<text text-anchor=\"middle\" x=\"233\" y=\"-292.8\" font-family=\"Hack\" font-size=\"14.00\" fill=\"white\"> </text>\n</g>\n<!-- 140575086752192&#45;&gt;140575086745088 -->\n<g id=\"edge9\" class=\"edge\">\n<title>140575086752192:l&#45;&gt;140575086745088:v</title>\n<path fill=\"none\" stroke=\"black\" d=\"M183,-278C183,-259.18 158.1,-262.45 149.15,-251.57\"/>\n<polygon fill=\"black\" stroke=\"black\" points=\"152.46,-250.4 146,-242 145.81,-252.59 152.46,-250.4\"/>\n</g>\n<!-- 140575086749504 -->\n<g id=\"node11\" class=\"node\">\n<title>140575086749504</title>\n<path fill=\"#ee6a50\" stroke=\"#ee6a50\" d=\"M245.5,-205.5C245.5,-205.5 296.5,-205.5 296.5,-205.5 302.5,-205.5 308.5,-211.5 308.5,-217.5 308.5,-217.5 308.5,-229.5 308.5,-229.5 308.5,-235.5 302.5,-241.5 296.5,-241.5 296.5,-241.5 245.5,-241.5 245.5,-241.5 239.5,-241.5 233.5,-235.5 233.5,-229.5 233.5,-229.5 233.5,-217.5 233.5,-217.5 233.5,-211.5 239.5,-205.5 245.5,-205.5\"/>\n<text text-anchor=\"middle\" x=\"246\" y=\"-219.8\" font-family=\"Hack\" font-size=\"14.00\" fill=\"white\"> </text>\n<polyline fill=\"none\" stroke=\"#ee6a50\" points=\"258.5,-205.5 258.5,-241.5 \"/>\n<text text-anchor=\"middle\" x=\"271\" y=\"-219.8\" font-family=\"Hack\" font-size=\"14.00\" fill=\"white\">5</text>\n<polyline fill=\"none\" stroke=\"#ee6a50\" points=\"283.5,-205.5 283.5,-241.5 \"/>\n<text text-anchor=\"middle\" x=\"296\" y=\"-219.8\" font-family=\"Hack\" font-size=\"14.00\" fill=\"white\"> </text>\n</g>\n<!-- 140575086752192&#45;&gt;140575086749504 -->\n<g id=\"edge10\" class=\"edge\">\n<title>140575086752192:r&#45;&gt;140575086749504:v</title>\n<path fill=\"none\" stroke=\"black\" d=\"M233,-278C233,-258.92 258.57,-262.57 267.76,-251.66\"/>\n<polygon fill=\"black\" stroke=\"black\" points=\"271.14,-252.59 271,-242 264.5,-250.37 271.14,-252.59\"/>\n</g>\n<!-- 140575086742160 -->\n<g id=\"node12\" class=\"node\">\n<title>140575086742160</title>\n<path fill=\"#292929\" stroke=\"#292929\" d=\"M234.33,-139.5C234.33,-139.5 255.67,-139.5 255.67,-139.5 259.33,-139.5 263,-143.17 263,-146.83 263,-146.83 263,-154.17 263,-154.17 263,-157.83 259.33,-161.5 255.67,-161.5 255.67,-161.5 234.33,-161.5 234.33,-161.5 230.67,-161.5 227,-157.83 227,-154.17 227,-154.17 227,-146.83 227,-146.83 227,-143.17 230.67,-139.5 234.33,-139.5\"/>\n<text text-anchor=\"middle\" x=\"231\" y=\"-148.6\" font-family=\"Hack\" font-size=\"8.00\" fill=\"white\"> </text>\n<polyline fill=\"none\" stroke=\"#292929\" points=\"235,-139.5 235,-161.5 \"/>\n<text text-anchor=\"middle\" x=\"245.5\" y=\"-148.6\" font-family=\"Hack\" font-size=\"8.00\" fill=\"white\">None</text>\n<polyline fill=\"none\" stroke=\"#292929\" points=\"256,-139.5 256,-161.5 \"/>\n<text text-anchor=\"middle\" x=\"259.5\" y=\"-148.6\" font-family=\"Hack\" font-size=\"8.00\" fill=\"white\"> </text>\n</g>\n<!-- 140575086749504&#45;&gt;140575086742160 -->\n<g id=\"edge11\" class=\"edge\">\n<title>140575086749504:l&#45;&gt;140575086742160:v</title>\n<path fill=\"none\" stroke=\"black\" d=\"M246,-205C246,-190.1 246,-184.01 246,-172.83\"/>\n<polygon fill=\"black\" stroke=\"black\" points=\"249.5,-172.5 246,-162.5 242.5,-172.5 249.5,-172.5\"/>\n</g>\n<!-- 140575086743024 -->\n<g id=\"node13\" class=\"node\">\n<title>140575086743024</title>\n<path fill=\"#ee6a50\" stroke=\"#ee6a50\" d=\"M293.5,-132.5C293.5,-132.5 344.5,-132.5 344.5,-132.5 350.5,-132.5 356.5,-138.5 356.5,-144.5 356.5,-144.5 356.5,-156.5 356.5,-156.5 356.5,-162.5 350.5,-168.5 344.5,-168.5 344.5,-168.5 293.5,-168.5 293.5,-168.5 287.5,-168.5 281.5,-162.5 281.5,-156.5 281.5,-156.5 281.5,-144.5 281.5,-144.5 281.5,-138.5 287.5,-132.5 293.5,-132.5\"/>\n<text text-anchor=\"middle\" x=\"294\" y=\"-146.8\" font-family=\"Hack\" font-size=\"14.00\" fill=\"white\"> </text>\n<polyline fill=\"none\" stroke=\"#ee6a50\" points=\"306.5,-132.5 306.5,-168.5 \"/>\n<text text-anchor=\"middle\" x=\"319\" y=\"-146.8\" font-family=\"Hack\" font-size=\"14.00\" fill=\"white\">8</text>\n<polyline fill=\"none\" stroke=\"#ee6a50\" points=\"331.5,-132.5 331.5,-168.5 \"/>\n<text text-anchor=\"middle\" x=\"344\" y=\"-146.8\" font-family=\"Hack\" font-size=\"14.00\" fill=\"white\"> </text>\n</g>\n<!-- 140575086749504&#45;&gt;140575086743024 -->\n<g id=\"edge12\" class=\"edge\">\n<title>140575086749504:r&#45;&gt;140575086743024:v</title>\n<path fill=\"none\" stroke=\"black\" d=\"M296,-205C296,-190.17 310.04,-188.13 316.18,-178.89\"/>\n<polygon fill=\"black\" stroke=\"black\" points=\"319.62,-179.58 319,-169 312.89,-177.66 319.62,-179.58\"/>\n</g>\n<!-- 140575086748976 -->\n<g id=\"node14\" class=\"node\">\n<title>140575086748976</title>\n<path fill=\"#292929\" stroke=\"#292929\" d=\"M280.33,-66.5C280.33,-66.5 301.67,-66.5 301.67,-66.5 305.33,-66.5 309,-70.17 309,-73.83 309,-73.83 309,-81.17 309,-81.17 309,-84.83 305.33,-88.5 301.67,-88.5 301.67,-88.5 280.33,-88.5 280.33,-88.5 276.67,-88.5 273,-84.83 273,-81.17 273,-81.17 273,-73.83 273,-73.83 273,-70.17 276.67,-66.5 280.33,-66.5\"/>\n<text text-anchor=\"middle\" x=\"277\" y=\"-75.6\" font-family=\"Hack\" font-size=\"8.00\" fill=\"white\"> </text>\n<polyline fill=\"none\" stroke=\"#292929\" points=\"281,-66.5 281,-88.5 \"/>\n<text text-anchor=\"middle\" x=\"291.5\" y=\"-75.6\" font-family=\"Hack\" font-size=\"8.00\" fill=\"white\">None</text>\n<polyline fill=\"none\" stroke=\"#292929\" points=\"302,-66.5 302,-88.5 \"/>\n<text text-anchor=\"middle\" x=\"305.5\" y=\"-75.6\" font-family=\"Hack\" font-size=\"8.00\" fill=\"white\"> </text>\n</g>\n<!-- 140575086743024&#45;&gt;140575086748976 -->\n<g id=\"edge13\" class=\"edge\">\n<title>140575086743024:l&#45;&gt;140575086748976:v</title>\n<path fill=\"none\" stroke=\"black\" d=\"M294,-132C294,-116.93 292.73,-110.9 292.21,-99.5\"/>\n<polygon fill=\"black\" stroke=\"black\" points=\"295.71,-99.42 292,-89.5 288.71,-99.57 295.71,-99.42\"/>\n</g>\n<!-- 140575086740480 -->\n<g id=\"node15\" class=\"node\">\n<title>140575086740480</title>\n<path fill=\"#292929\" stroke=\"#292929\" d=\"M334.33,-66.5C334.33,-66.5 355.67,-66.5 355.67,-66.5 359.33,-66.5 363,-70.17 363,-73.83 363,-73.83 363,-81.17 363,-81.17 363,-84.83 359.33,-88.5 355.67,-88.5 355.67,-88.5 334.33,-88.5 334.33,-88.5 330.67,-88.5 327,-84.83 327,-81.17 327,-81.17 327,-73.83 327,-73.83 327,-70.17 330.67,-66.5 334.33,-66.5\"/>\n<text text-anchor=\"middle\" x=\"331\" y=\"-75.6\" font-family=\"Hack\" font-size=\"8.00\" fill=\"white\"> </text>\n<polyline fill=\"none\" stroke=\"#292929\" points=\"335,-66.5 335,-88.5 \"/>\n<text text-anchor=\"middle\" x=\"345.5\" y=\"-75.6\" font-family=\"Hack\" font-size=\"8.00\" fill=\"white\">None</text>\n<polyline fill=\"none\" stroke=\"#292929\" points=\"356,-66.5 356,-88.5 \"/>\n<text text-anchor=\"middle\" x=\"359.5\" y=\"-75.6\" font-family=\"Hack\" font-size=\"8.00\" fill=\"white\"> </text>\n</g>\n<!-- 140575086743024&#45;&gt;140575086740480 -->\n<g id=\"edge14\" class=\"edge\">\n<title>140575086743024:r&#45;&gt;140575086740480:v</title>\n<path fill=\"none\" stroke=\"black\" d=\"M344,-132C344,-116.93 345.27,-110.9 345.79,-99.5\"/>\n<polygon fill=\"black\" stroke=\"black\" points=\"349.29,-99.57 346,-89.5 342.29,-99.42 349.29,-99.57\"/>\n</g>\n</g>\n</svg>\n",
      "text/plain": [
       "<__main__.RBTree at 0x7fda301c2320>"
      ]
     },
     "execution_count": 156,
     "metadata": {},
     "output_type": "execute_result"
    }
   ],
   "source": [
    "t = RBTree(4)\n",
    "for n in [5, 3, 7, 1, 2, 6, 8, 4, 4]:\n",
    "    t.insert(n)\n",
    "# t.root.left = Node(2, NodeColor.RED, parent_=t.root)\n",
    "print(len(t))\n",
    "t"
   ]
  }
 ],
 "metadata": {
  "interpreter": {
   "hash": "68931e2e76b6a7310d5f88e37c383783858d6f1262221c06e839ac3b7dd02389"
  },
  "kernelspec": {
   "display_name": "Python 3.10.1 64-bit",
   "language": "python",
   "name": "python3"
  },
  "language_info": {
   "codemirror_mode": {
    "name": "ipython",
    "version": 3
   },
   "file_extension": ".py",
   "mimetype": "text/x-python",
   "name": "python",
   "nbconvert_exporter": "python",
   "pygments_lexer": "ipython3",
   "version": "3.10.1"
  },
  "orig_nbformat": 4
 },
 "nbformat": 4,
 "nbformat_minor": 2
}
